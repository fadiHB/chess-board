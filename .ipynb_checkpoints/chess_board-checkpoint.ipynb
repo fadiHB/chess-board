{
 "cells": [
  {
   "cell_type": "code",
   "execution_count": 372,
   "metadata": {},
   "outputs": [
    {
     "data": {
      "image/png": "[encoded data removed]",
      "text/plain": [
       "<Figure size 432x288 with 1 Axes>"
      ]
     },
     "metadata": {
      "needs_background": "light"
     },
     "output_type": "display_data"
    }
   ],
   "source": [
    "import numpy as np\n",
    "import matplotlib.pyplot as plt\n",
    "\n",
    "class ChessBoard:\n",
    "    white = [1,1,1]\n",
    "    blue = []\n",
    "    red = []\n",
    "    def __init__(self):\n",
    "#         self.queen_red = [0,0]\n",
    "        self.grid = np.zeros([8,8,3])\n",
    "        for i in range(8):\n",
    "            for j in range(8):\n",
    "                if (i%2==0 and j%2==0) or (i%2==1 and j%2==1):\n",
    "                    self.grid[i,j] = ChessBoard.white\n",
    "    \n",
    "        ##   \n",
    "    def render(self):\n",
    "        plt.imshow(self.grid)\n",
    "        \n",
    "    def add_red(self,red_x,red_y):\n",
    "        ChessBoard.red = []\n",
    "        lst = []\n",
    "        lst.append(red_x)\n",
    "        lst.append(red_y)\n",
    "        ChessBoard.red.append(lst)\n",
    "        self.grid[red_x,red_y]=[1,0,0]\n",
    "        \n",
    "        \n",
    "\n",
    "#         print(f'red : row,x = {self.red_x}, col,y = {self.red_y}')        \n",
    "    \n",
    "    def add_blue(self,blue_x,blue_y):\n",
    "        ChessBoard.blue = []\n",
    "        lst = []\n",
    "        lst.append(blue_x)\n",
    "        lst.append(blue_y)\n",
    "        ChessBoard.blue.append(lst)\n",
    "        self.grid[blue_x,blue_y]=[0,0,1]\n",
    "#         print(f'blue : row,x = {self.blue_x}, col,y = {self.blue_y}')\n",
    "\n",
    "    @staticmethod\n",
    "    def check_if_diagonal(red_x_acces,red_y_acces,blue_x_acces,blue_y_acces):\n",
    "        x_acces = abs(red_x_acces - blue_x_acces)\n",
    "        y_acces = abs(red_y_acces - blue_y_acces)\n",
    "        return x_acces == y_acces\n",
    "\n",
    "    \n",
    "    def check_if_under_attack(self):\n",
    "        check = False\n",
    "        \n",
    "        ## im the result mohammad dont coopy and paste\n",
    "        result = check_if_diagonal()\n",
    "        if (red_x == blue_x):\n",
    "            return True\n",
    "        if (red_y == blue_y):\n",
    "            return True\n",
    "    \n",
    "        if (abs(red_x - red_y) == abs(blue_x - blue_y)):\n",
    "            return True\n",
    "        return False\n",
    "    \n",
    "\n",
    "        \n",
    "        \n",
    "# #         if (self.red_x == self.blue_x or self.red_y == self.blue_y or len(self.grid[self.blue_y:self.red_y]) == len(self.grid[self.blue_x:self.red_x])):\n",
    "#         if (self.red_x == self.blue_x or self.red_y == self.blue_y or len(self.grid[self.blue_y:self.red_y]) == len(self.grid[self.blue_x:self.red_x])):\n",
    "#             print(len(self.grid[self.blue_y:self.red_y]))\n",
    "#             print(len(self.grid[self.blue_x:self.red_x]))\n",
    "#             return True\n",
    "#         if ()\n",
    "#         print(len(self.grid[self.blue_y:self.red_y]))\n",
    "#         print(len(self.grid[self.blue_x:self.red_x]))\n",
    "#         return False\n",
    "#         pass\n",
    "\n",
    "        \n",
    "#     def is_under_attack(self):\n",
    "#         self.check_if_under_attack()\n",
    "#         pass\n",
    "\n",
    "board = ChessBoard()\n",
    "board.render()"
   ]
  },
  {
   "cell_type": "markdown",
   "metadata": {},
   "source": []
  },
  {
   "cell_type": "code",
   "execution_count": 373,
   "metadata": {},
   "outputs": [
    {
     "name": "stdout",
     "output_type": "stream",
     "text": [
      "True\n"
     ]
    },
    {
     "data": {
      "image/png": "[encoded data removed]",
      "text/plain": [
       "<Figure size 432x288 with 1 Axes>"
      ]
     },
     "metadata": {
      "needs_background": "light"
     },
     "output_type": "display_data"
    }
   ],
   "source": [
    "board.add_red(0,3)\n",
    "board.add_blue(5,5)\n",
    "# board.add_blue(1,3)\n",
    "# board.add_red(5,5)\n",
    "board.render()\n",
    "is_under_attack = board.check_if_under_attack(0,3,5,5)\n",
    "print(is_under_attack)"
   ]
  },
  {
   "cell_type": "code",
   "execution_count": 374,
   "metadata": {},
   "outputs": [
    {
     "name": "stdout",
     "output_type": "stream",
     "text": [
      "all tests passed successfully\n",
      "all tests passed successfully\n"
     ]
    }
   ],
   "source": [
    "def test_chess_board():\n",
    "    board = ChessBoard()\n",
    "    board.add_red(2,2)\n",
    "    board.add_blue(5,5)\n",
    "    is_under_attack = board.check_if_under_attack(2,2,5,5)\n",
    "    assert is_under_attack == True\n",
    "    print('all tests passed successfully')\n",
    "    board.add_red(3,1)\n",
    "    board.add_blue(5,5)\n",
    "    is_under_attack = board.check_if_under_attack(3,1,5,5)\n",
    "    assert is_under_attack == False\n",
    "    print('all tests passed successfully')\n",
    "\n",
    "test_chess_board()"
   ]
  },
  {
   "cell_type": "code",
   "execution_count": null,
   "metadata": {},
   "outputs": [],
   "source": []
  }
 ],
 "metadata": {
  "kernelspec": {
   "display_name": "Python 3",
   "language": "python",
   "name": "python3"
  },
  "language_info": {
   "codemirror_mode": {
    "name": "ipython",
    "version": 3
   },
   "file_extension": ".py",
   "mimetype": "text/x-python",
   "name": "python",
   "nbconvert_exporter": "python",
   "pygments_lexer": "ipython3",
   "version": "3.9.0"
  }
 },
 "nbformat": 4,
 "nbformat_minor": 4
}
